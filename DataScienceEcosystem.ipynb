{
 "cells": [
  {
   "cell_type": "markdown",
   "id": "9fafd645",
   "metadata": {},
   "source": [
    "# Data Science Tools and Ecosystem"
   ]
  },
  {
   "cell_type": "markdown",
   "id": "f56fc486",
   "metadata": {},
   "source": [
    "In this notebook, Data Science Tools and Ecosystem are summarized."
   ]
  },
  {
   "cell_type": "markdown",
   "id": "b8d4a7ee",
   "metadata": {},
   "source": [
    "**Objectives:**\n",
    "\n",
    "- List popular languages that Data Scientists use.\n",
    "- List commonly used libraries used by Data Scientists.\n",
    "- some arithmetic expressions used in python."
   ]
  },
  {
   "cell_type": "markdown",
   "id": "2bae6b5e",
   "metadata": {},
   "source": [
    "Some of the popular languages that Data Scientists use are:"
   ]
  },
  {
   "cell_type": "markdown",
   "id": "3adb75d2",
   "metadata": {},
   "source": [
    "1. Python.\n",
    "2. R.\n",
    "3. SQL."
   ]
  },
  {
   "cell_type": "markdown",
   "id": "2bce986a",
   "metadata": {},
   "source": [
    "Some of the commonly used libraries used by Data Scientists include:"
   ]
  },
  {
   "cell_type": "markdown",
   "id": "647d3621",
   "metadata": {},
   "source": [
    "1. TensorFlow.\n",
    "2. NumPy.\n",
    "3. SciPy.\n",
    "4. Pandas.\n",
    "5. Matplotlib."
   ]
  },
  {
   "cell_type": "markdown",
   "id": "c5131320",
   "metadata": {},
   "source": [
    "| Data Science Tools |\n",
    "| -------------|\n",
    "| Apache Spark|\n",
    "| R Studio |\n",
    "| weka |"
   ]
  },
  {
   "cell_type": "markdown",
   "id": "4ef83464",
   "metadata": {},
   "source": [
    "### Below are a few examples of evaluating arithmetic expressions in Python"
   ]
  },
  {
   "cell_type": "code",
   "execution_count": 8,
   "id": "3950024f",
   "metadata": {},
   "outputs": [
    {
     "data": {
      "text/plain": [
       "17"
      ]
     },
     "execution_count": 8,
     "metadata": {},
     "output_type": "execute_result"
    }
   ],
   "source": [
    "# This a simple arithmetic expression to mutiply then add integers.\n",
    "(3*4)+5"
   ]
  },
  {
   "cell_type": "code",
   "execution_count": 15,
   "id": "baceb893",
   "metadata": {},
   "outputs": [
    {
     "name": "stdout",
     "output_type": "stream",
     "text": [
      "3:20\n"
     ]
    }
   ],
   "source": [
    "# This will convert 200 minutes to hours by diving by 60\n",
    "total_minutes = 200\n",
    "hours = total_minutes // 60\n",
    "minutes = total_minutes % 60\n",
    "time = \"{}:{}\".format(hours, minutes)\n",
    "print(time)"
   ]
  },
  {
   "cell_type": "markdown",
   "id": "c8901d23",
   "metadata": {},
   "source": [
    "## Author\n",
    "Pius C. Onochie"
   ]
  }
 ],
 "metadata": {
  "kernelspec": {
   "display_name": "Python 3 (ipykernel)",
   "language": "python",
   "name": "python3"
  },
  "language_info": {
   "codemirror_mode": {
    "name": "ipython",
    "version": 3
   },
   "file_extension": ".py",
   "mimetype": "text/x-python",
   "name": "python",
   "nbconvert_exporter": "python",
   "pygments_lexer": "ipython3",
   "version": "3.11.4"
  }
 },
 "nbformat": 4,
 "nbformat_minor": 5
}
